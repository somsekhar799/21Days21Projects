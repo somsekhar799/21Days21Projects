{
  "nbformat": 4,
  "nbformat_minor": 0,
  "metadata": {
    "colab": {
      "provenance": [],
      "gpuType": "T4"
    },
    "kernelspec": {
      "name": "python3",
      "display_name": "Python 3"
    },
    "language_info": {
      "name": "python"
    },
    "accelerator": "GPU"
  },
  "cells": [
    {
      "cell_type": "markdown",
      "source": [
        "### Assignment Documentation\n",
        "\n",
        "Based on the analysis performed in this notebook, the assignment is to focus on building and evaluating models for predicting the **High** price of the NIFTY 50 index.\n",
        "\n",
        "Specifically, you should concentrate on the following models and time windows:\n",
        "\n",
        "*   **Models:**\n",
        "    *   KNN (K-Nearest Neighbors Regressor)\n",
        "    *   RNN (Simple Recurrent Neural Network)\n",
        "    *   GRU (Gated Recurrent Unit)\n",
        "    *   LSTM (Long Short-Term Memory)\n",
        "    *   Bidirectional LSTM\n",
        "\n",
        "*   **Time Windows (Input Days):**\n",
        "    *   30 days\n",
        "    *   60 days\n",
        "    *   90 days\n",
        "\n",
        "For the Deep Learning models (RNN, GRU, LSTM, Bidirectional LSTM), train them for **50 epochs**.\n",
        "\n",
        "The goal is to train these specific models for the 'High' column using the specified time windows and evaluate their performance using MAE and RMSE, comparing the results."
      ],
      "metadata": {
        "id": "r8eGrXiGnSAB"
      }
    },
    {
      "cell_type": "code",
      "execution_count": 1,
      "metadata": {
        "id": "S8_iXY-jnO7f"
      },
      "outputs": [],
      "source": [
        "import numpy as np\n",
        "import pandas as pd\n",
        "from tqdm.auto import tqdm\n",
        "from sklearn.model_selection import train_test_split\n",
        "\n",
        "from sklearn.linear_model import LinearRegression, Ridge, Lasso\n",
        "from sklearn.ensemble import RandomForestRegressor, GradientBoostingRegressor\n",
        "from sklearn.svm import SVR\n",
        "from sklearn.neighbors import KNeighborsRegressor\n",
        "from xgboost import XGBRegressor\n",
        "from lightgbm import LGBMRegressor\n",
        "from copy import deepcopy\n",
        "\n",
        "\n",
        "from sklearn.metrics import mean_absolute_error, mean_squared_error\n",
        "\n"
      ]
    },
    {
      "cell_type": "code",
      "source": [
        "import kagglehub\n",
        "\n",
        "# Download latest version\n",
        "path = kagglehub.dataset_download(\"ashishjangra27/nifty-50-25-yrs-data\")\n",
        "\n",
        "print(\"Path to dataset files:\", path)"
      ],
      "metadata": {
        "colab": {
          "base_uri": "https://localhost:8080/"
        },
        "id": "z10pi3x8ptKv",
        "outputId": "11a29049-6736-4795-adc8-a44eeaf41aae"
      },
      "execution_count": 4,
      "outputs": [
        {
          "output_type": "stream",
          "name": "stdout",
          "text": [
            "Using Colab cache for faster access to the 'nifty-50-25-yrs-data' dataset.\n",
            "Path to dataset files: /kaggle/input/nifty-50-25-yrs-data\n"
          ]
        }
      ]
    },
    {
      "cell_type": "code",
      "source": [
        "import warnings\n",
        "warnings.filterwarnings(\"ignore\")\n",
        "import os\n",
        "\n",
        "# List files in the directory\n",
        "dir_path = '/kaggle/input/nifty-50-25-yrs-data'\n",
        "files = os.listdir(dir_path)\n",
        "print(\"Files in the directory:\", files)\n",
        "\n",
        "# Assuming the data file is named 'data.csv', construct the full path\n",
        "file_path = os.path.join(dir_path, 'data.csv')\n",
        "\n",
        "# Check if the file exists before attempting to read\n",
        "if os.path.exists(file_path):\n",
        "    df = pd.read_csv(file_path)\n",
        "    display(df.head())\n",
        "else:\n",
        "    print(f\"File not found: {file_path}\")\n",
        "    print(\"Please check the list of files above and update the filename if necessary.\")"
      ],
      "metadata": {
        "colab": {
          "base_uri": "https://localhost:8080/",
          "height": 224
        },
        "id": "OkhFWAvlniKy",
        "outputId": "b3133ef8-d713-4944-8d5b-0363d69b9bdf"
      },
      "execution_count": 5,
      "outputs": [
        {
          "output_type": "stream",
          "name": "stdout",
          "text": [
            "Files in the directory: ['.nfs000000004a87c0dd000000b9', 'data.csv']\n"
          ]
        },
        {
          "output_type": "display_data",
          "data": {
            "text/plain": [
              "         Date     Open     High      Low   Close\n",
              "0  2000-01-03  1482.15  1592.90  1482.15  1592.2\n",
              "1  2000-01-04  1594.40  1641.95  1594.40  1638.7\n",
              "2  2000-01-05  1634.55  1635.50  1555.05  1595.8\n",
              "3  2000-01-06  1595.80  1639.00  1595.80  1617.6\n",
              "4  2000-01-07  1616.60  1628.25  1597.20  1613.3"
            ],
            "text/html": [
              "\n",
              "  <div id=\"df-c467436e-8fa8-45a0-b6cb-ba8d1a5b0fbc\" class=\"colab-df-container\">\n",
              "    <div>\n",
              "<style scoped>\n",
              "    .dataframe tbody tr th:only-of-type {\n",
              "        vertical-align: middle;\n",
              "    }\n",
              "\n",
              "    .dataframe tbody tr th {\n",
              "        vertical-align: top;\n",
              "    }\n",
              "\n",
              "    .dataframe thead th {\n",
              "        text-align: right;\n",
              "    }\n",
              "</style>\n",
              "<table border=\"1\" class=\"dataframe\">\n",
              "  <thead>\n",
              "    <tr style=\"text-align: right;\">\n",
              "      <th></th>\n",
              "      <th>Date</th>\n",
              "      <th>Open</th>\n",
              "      <th>High</th>\n",
              "      <th>Low</th>\n",
              "      <th>Close</th>\n",
              "    </tr>\n",
              "  </thead>\n",
              "  <tbody>\n",
              "    <tr>\n",
              "      <th>0</th>\n",
              "      <td>2000-01-03</td>\n",
              "      <td>1482.15</td>\n",
              "      <td>1592.90</td>\n",
              "      <td>1482.15</td>\n",
              "      <td>1592.2</td>\n",
              "    </tr>\n",
              "    <tr>\n",
              "      <th>1</th>\n",
              "      <td>2000-01-04</td>\n",
              "      <td>1594.40</td>\n",
              "      <td>1641.95</td>\n",
              "      <td>1594.40</td>\n",
              "      <td>1638.7</td>\n",
              "    </tr>\n",
              "    <tr>\n",
              "      <th>2</th>\n",
              "      <td>2000-01-05</td>\n",
              "      <td>1634.55</td>\n",
              "      <td>1635.50</td>\n",
              "      <td>1555.05</td>\n",
              "      <td>1595.8</td>\n",
              "    </tr>\n",
              "    <tr>\n",
              "      <th>3</th>\n",
              "      <td>2000-01-06</td>\n",
              "      <td>1595.80</td>\n",
              "      <td>1639.00</td>\n",
              "      <td>1595.80</td>\n",
              "      <td>1617.6</td>\n",
              "    </tr>\n",
              "    <tr>\n",
              "      <th>4</th>\n",
              "      <td>2000-01-07</td>\n",
              "      <td>1616.60</td>\n",
              "      <td>1628.25</td>\n",
              "      <td>1597.20</td>\n",
              "      <td>1613.3</td>\n",
              "    </tr>\n",
              "  </tbody>\n",
              "</table>\n",
              "</div>\n",
              "    <div class=\"colab-df-buttons\">\n",
              "\n",
              "  <div class=\"colab-df-container\">\n",
              "    <button class=\"colab-df-convert\" onclick=\"convertToInteractive('df-c467436e-8fa8-45a0-b6cb-ba8d1a5b0fbc')\"\n",
              "            title=\"Convert this dataframe to an interactive table.\"\n",
              "            style=\"display:none;\">\n",
              "\n",
              "  <svg xmlns=\"http://www.w3.org/2000/svg\" height=\"24px\" viewBox=\"0 -960 960 960\">\n",
              "    <path d=\"M120-120v-720h720v720H120Zm60-500h600v-160H180v160Zm220 220h160v-160H400v160Zm0 220h160v-160H400v160ZM180-400h160v-160H180v160Zm440 0h160v-160H620v160ZM180-180h160v-160H180v160Zm440 0h160v-160H620v160Z\"/>\n",
              "  </svg>\n",
              "    </button>\n",
              "\n",
              "  <style>\n",
              "    .colab-df-container {\n",
              "      display:flex;\n",
              "      gap: 12px;\n",
              "    }\n",
              "\n",
              "    .colab-df-convert {\n",
              "      background-color: #E8F0FE;\n",
              "      border: none;\n",
              "      border-radius: 50%;\n",
              "      cursor: pointer;\n",
              "      display: none;\n",
              "      fill: #1967D2;\n",
              "      height: 32px;\n",
              "      padding: 0 0 0 0;\n",
              "      width: 32px;\n",
              "    }\n",
              "\n",
              "    .colab-df-convert:hover {\n",
              "      background-color: #E2EBFA;\n",
              "      box-shadow: 0px 1px 2px rgba(60, 64, 67, 0.3), 0px 1px 3px 1px rgba(60, 64, 67, 0.15);\n",
              "      fill: #174EA6;\n",
              "    }\n",
              "\n",
              "    .colab-df-buttons div {\n",
              "      margin-bottom: 4px;\n",
              "    }\n",
              "\n",
              "    [theme=dark] .colab-df-convert {\n",
              "      background-color: #3B4455;\n",
              "      fill: #D2E3FC;\n",
              "    }\n",
              "\n",
              "    [theme=dark] .colab-df-convert:hover {\n",
              "      background-color: #434B5C;\n",
              "      box-shadow: 0px 1px 3px 1px rgba(0, 0, 0, 0.15);\n",
              "      filter: drop-shadow(0px 1px 2px rgba(0, 0, 0, 0.3));\n",
              "      fill: #FFFFFF;\n",
              "    }\n",
              "  </style>\n",
              "\n",
              "    <script>\n",
              "      const buttonEl =\n",
              "        document.querySelector('#df-c467436e-8fa8-45a0-b6cb-ba8d1a5b0fbc button.colab-df-convert');\n",
              "      buttonEl.style.display =\n",
              "        google.colab.kernel.accessAllowed ? 'block' : 'none';\n",
              "\n",
              "      async function convertToInteractive(key) {\n",
              "        const element = document.querySelector('#df-c467436e-8fa8-45a0-b6cb-ba8d1a5b0fbc');\n",
              "        const dataTable =\n",
              "          await google.colab.kernel.invokeFunction('convertToInteractive',\n",
              "                                                    [key], {});\n",
              "        if (!dataTable) return;\n",
              "\n",
              "        const docLinkHtml = 'Like what you see? Visit the ' +\n",
              "          '<a target=\"_blank\" href=https://colab.research.google.com/notebooks/data_table.ipynb>data table notebook</a>'\n",
              "          + ' to learn more about interactive tables.';\n",
              "        element.innerHTML = '';\n",
              "        dataTable['output_type'] = 'display_data';\n",
              "        await google.colab.output.renderOutput(dataTable, element);\n",
              "        const docLink = document.createElement('div');\n",
              "        docLink.innerHTML = docLinkHtml;\n",
              "        element.appendChild(docLink);\n",
              "      }\n",
              "    </script>\n",
              "  </div>\n",
              "\n",
              "\n",
              "    <div id=\"df-3231b105-14ea-4b5f-a793-e462e16b086f\">\n",
              "      <button class=\"colab-df-quickchart\" onclick=\"quickchart('df-3231b105-14ea-4b5f-a793-e462e16b086f')\"\n",
              "                title=\"Suggest charts\"\n",
              "                style=\"display:none;\">\n",
              "\n",
              "<svg xmlns=\"http://www.w3.org/2000/svg\" height=\"24px\"viewBox=\"0 0 24 24\"\n",
              "     width=\"24px\">\n",
              "    <g>\n",
              "        <path d=\"M19 3H5c-1.1 0-2 .9-2 2v14c0 1.1.9 2 2 2h14c1.1 0 2-.9 2-2V5c0-1.1-.9-2-2-2zM9 17H7v-7h2v7zm4 0h-2V7h2v10zm4 0h-2v-4h2v4z\"/>\n",
              "    </g>\n",
              "</svg>\n",
              "      </button>\n",
              "\n",
              "<style>\n",
              "  .colab-df-quickchart {\n",
              "      --bg-color: #E8F0FE;\n",
              "      --fill-color: #1967D2;\n",
              "      --hover-bg-color: #E2EBFA;\n",
              "      --hover-fill-color: #174EA6;\n",
              "      --disabled-fill-color: #AAA;\n",
              "      --disabled-bg-color: #DDD;\n",
              "  }\n",
              "\n",
              "  [theme=dark] .colab-df-quickchart {\n",
              "      --bg-color: #3B4455;\n",
              "      --fill-color: #D2E3FC;\n",
              "      --hover-bg-color: #434B5C;\n",
              "      --hover-fill-color: #FFFFFF;\n",
              "      --disabled-bg-color: #3B4455;\n",
              "      --disabled-fill-color: #666;\n",
              "  }\n",
              "\n",
              "  .colab-df-quickchart {\n",
              "    background-color: var(--bg-color);\n",
              "    border: none;\n",
              "    border-radius: 50%;\n",
              "    cursor: pointer;\n",
              "    display: none;\n",
              "    fill: var(--fill-color);\n",
              "    height: 32px;\n",
              "    padding: 0;\n",
              "    width: 32px;\n",
              "  }\n",
              "\n",
              "  .colab-df-quickchart:hover {\n",
              "    background-color: var(--hover-bg-color);\n",
              "    box-shadow: 0 1px 2px rgba(60, 64, 67, 0.3), 0 1px 3px 1px rgba(60, 64, 67, 0.15);\n",
              "    fill: var(--button-hover-fill-color);\n",
              "  }\n",
              "\n",
              "  .colab-df-quickchart-complete:disabled,\n",
              "  .colab-df-quickchart-complete:disabled:hover {\n",
              "    background-color: var(--disabled-bg-color);\n",
              "    fill: var(--disabled-fill-color);\n",
              "    box-shadow: none;\n",
              "  }\n",
              "\n",
              "  .colab-df-spinner {\n",
              "    border: 2px solid var(--fill-color);\n",
              "    border-color: transparent;\n",
              "    border-bottom-color: var(--fill-color);\n",
              "    animation:\n",
              "      spin 1s steps(1) infinite;\n",
              "  }\n",
              "\n",
              "  @keyframes spin {\n",
              "    0% {\n",
              "      border-color: transparent;\n",
              "      border-bottom-color: var(--fill-color);\n",
              "      border-left-color: var(--fill-color);\n",
              "    }\n",
              "    20% {\n",
              "      border-color: transparent;\n",
              "      border-left-color: var(--fill-color);\n",
              "      border-top-color: var(--fill-color);\n",
              "    }\n",
              "    30% {\n",
              "      border-color: transparent;\n",
              "      border-left-color: var(--fill-color);\n",
              "      border-top-color: var(--fill-color);\n",
              "      border-right-color: var(--fill-color);\n",
              "    }\n",
              "    40% {\n",
              "      border-color: transparent;\n",
              "      border-right-color: var(--fill-color);\n",
              "      border-top-color: var(--fill-color);\n",
              "    }\n",
              "    60% {\n",
              "      border-color: transparent;\n",
              "      border-right-color: var(--fill-color);\n",
              "    }\n",
              "    80% {\n",
              "      border-color: transparent;\n",
              "      border-right-color: var(--fill-color);\n",
              "      border-bottom-color: var(--fill-color);\n",
              "    }\n",
              "    90% {\n",
              "      border-color: transparent;\n",
              "      border-bottom-color: var(--fill-color);\n",
              "    }\n",
              "  }\n",
              "</style>\n",
              "\n",
              "      <script>\n",
              "        async function quickchart(key) {\n",
              "          const quickchartButtonEl =\n",
              "            document.querySelector('#' + key + ' button');\n",
              "          quickchartButtonEl.disabled = true;  // To prevent multiple clicks.\n",
              "          quickchartButtonEl.classList.add('colab-df-spinner');\n",
              "          try {\n",
              "            const charts = await google.colab.kernel.invokeFunction(\n",
              "                'suggestCharts', [key], {});\n",
              "          } catch (error) {\n",
              "            console.error('Error during call to suggestCharts:', error);\n",
              "          }\n",
              "          quickchartButtonEl.classList.remove('colab-df-spinner');\n",
              "          quickchartButtonEl.classList.add('colab-df-quickchart-complete');\n",
              "        }\n",
              "        (() => {\n",
              "          let quickchartButtonEl =\n",
              "            document.querySelector('#df-3231b105-14ea-4b5f-a793-e462e16b086f button');\n",
              "          quickchartButtonEl.style.display =\n",
              "            google.colab.kernel.accessAllowed ? 'block' : 'none';\n",
              "        })();\n",
              "      </script>\n",
              "    </div>\n",
              "\n",
              "    </div>\n",
              "  </div>\n"
            ],
            "application/vnd.google.colaboratory.intrinsic+json": {
              "type": "dataframe",
              "summary": "{\n  \"name\": \"    print(\\\"Please check the list of files above and update the filename if necessary\",\n  \"rows\": 5,\n  \"fields\": [\n    {\n      \"column\": \"Date\",\n      \"properties\": {\n        \"dtype\": \"object\",\n        \"num_unique_values\": 5,\n        \"samples\": [\n          \"2000-01-04\",\n          \"2000-01-07\",\n          \"2000-01-05\"\n        ],\n        \"semantic_type\": \"\",\n        \"description\": \"\"\n      }\n    },\n    {\n      \"column\": \"Open\",\n      \"properties\": {\n        \"dtype\": \"number\",\n        \"std\": 59.658266401228865,\n        \"min\": 1482.15,\n        \"max\": 1634.55,\n        \"num_unique_values\": 5,\n        \"samples\": [\n          1594.4,\n          1616.6,\n          1634.55\n        ],\n        \"semantic_type\": \"\",\n        \"description\": \"\"\n      }\n    },\n    {\n      \"column\": \"High\",\n      \"properties\": {\n        \"dtype\": \"number\",\n        \"std\": 20.017323747194546,\n        \"min\": 1592.9,\n        \"max\": 1641.95,\n        \"num_unique_values\": 5,\n        \"samples\": [\n          1641.95,\n          1628.25,\n          1635.5\n        ],\n        \"semantic_type\": \"\",\n        \"description\": \"\"\n      }\n    },\n    {\n      \"column\": \"Low\",\n      \"properties\": {\n        \"dtype\": \"number\",\n        \"std\": 49.53012467175908,\n        \"min\": 1482.15,\n        \"max\": 1597.2,\n        \"num_unique_values\": 5,\n        \"samples\": [\n          1594.4,\n          1597.2,\n          1555.05\n        ],\n        \"semantic_type\": \"\",\n        \"description\": \"\"\n      }\n    },\n    {\n      \"column\": \"Close\",\n      \"properties\": {\n        \"dtype\": \"number\",\n        \"std\": 18.703395413667547,\n        \"min\": 1592.2,\n        \"max\": 1638.7,\n        \"num_unique_values\": 5,\n        \"samples\": [\n          1638.7,\n          1613.3,\n          1595.8\n        ],\n        \"semantic_type\": \"\",\n        \"description\": \"\"\n      }\n    }\n  ]\n}"
            }
          },
          "metadata": {}
        }
      ]
    },
    {
      "cell_type": "markdown",
      "metadata": {
        "id": "dd3b9b3b"
      },
      "source": [
        "# Task\n",
        "Analyze the provided NIFTY 50 index data to predict the 'High' price using KNN, RNN, GRU, LSTM, and Bidirectional LSTM models with input time windows of 30, 60, and 90 days. Train the deep learning models for 50 epochs and evaluate all models using MAE and RMSE. Compare the performance of all models and time windows."
      ]
    },
    {
      "cell_type": "markdown",
      "metadata": {
        "id": "3ed0444c"
      },
      "source": [
        "## Load and preprocess data\n",
        "\n",
        "### Subtask:\n",
        "Load the dataset and ensure the 'Date' column is in datetime format. Handle any missing values if necessary. Select the 'High' column as the target variable.\n"
      ]
    },
    {
      "cell_type": "markdown",
      "metadata": {
        "id": "e7502912"
      },
      "source": [
        "**Reasoning**:\n",
        "Convert the 'Date' column to datetime format, check for missing values, and select the target variable.\n",
        "\n"
      ]
    },
    {
      "cell_type": "code",
      "metadata": {
        "colab": {
          "base_uri": "https://localhost:8080/",
          "height": 293
        },
        "id": "2eccd6cc",
        "outputId": "a3f40d6b-b282-4772-f28c-158295576e92"
      },
      "source": [
        "df['Date'] = pd.to_datetime(df['Date'])\n",
        "print(\"Missing values in the DataFrame:\")\n",
        "display(df.isnull().sum())\n",
        "\n",
        "target_variable = df['High']\n",
        "print(\"\\nTarget variable 'High' selected.\")"
      ],
      "execution_count": 6,
      "outputs": [
        {
          "output_type": "stream",
          "name": "stdout",
          "text": [
            "Missing values in the DataFrame:\n"
          ]
        },
        {
          "output_type": "display_data",
          "data": {
            "text/plain": [
              "Date     0\n",
              "Open     0\n",
              "High     0\n",
              "Low      0\n",
              "Close    0\n",
              "dtype: int64"
            ],
            "text/html": [
              "<div>\n",
              "<style scoped>\n",
              "    .dataframe tbody tr th:only-of-type {\n",
              "        vertical-align: middle;\n",
              "    }\n",
              "\n",
              "    .dataframe tbody tr th {\n",
              "        vertical-align: top;\n",
              "    }\n",
              "\n",
              "    .dataframe thead th {\n",
              "        text-align: right;\n",
              "    }\n",
              "</style>\n",
              "<table border=\"1\" class=\"dataframe\">\n",
              "  <thead>\n",
              "    <tr style=\"text-align: right;\">\n",
              "      <th></th>\n",
              "      <th>0</th>\n",
              "    </tr>\n",
              "  </thead>\n",
              "  <tbody>\n",
              "    <tr>\n",
              "      <th>Date</th>\n",
              "      <td>0</td>\n",
              "    </tr>\n",
              "    <tr>\n",
              "      <th>Open</th>\n",
              "      <td>0</td>\n",
              "    </tr>\n",
              "    <tr>\n",
              "      <th>High</th>\n",
              "      <td>0</td>\n",
              "    </tr>\n",
              "    <tr>\n",
              "      <th>Low</th>\n",
              "      <td>0</td>\n",
              "    </tr>\n",
              "    <tr>\n",
              "      <th>Close</th>\n",
              "      <td>0</td>\n",
              "    </tr>\n",
              "  </tbody>\n",
              "</table>\n",
              "</div><br><label><b>dtype:</b> int64</label>"
            ]
          },
          "metadata": {}
        },
        {
          "output_type": "stream",
          "name": "stdout",
          "text": [
            "\n",
            "Target variable 'High' selected.\n"
          ]
        }
      ]
    },
    {
      "cell_type": "markdown",
      "metadata": {
        "id": "44d522ae"
      },
      "source": [
        "## Create time windows\n",
        "\n",
        "### Subtask:\n",
        "Develop a function to create sequences of data based on the specified time windows (30, 60, and 90 days) for both features (input sequences) and the target variable (the 'High' price to predict). Split the data into training and testing sets.\n"
      ]
    },
    {
      "cell_type": "markdown",
      "metadata": {
        "id": "ea1023b6"
      },
      "source": [
        "**Reasoning**:\n",
        "Define the function to create sequences and then apply it for each time window and split the data for each window. Finally, reshape the features for deep learning models.\n",
        "\n"
      ]
    },
    {
      "cell_type": "code",
      "metadata": {
        "colab": {
          "base_uri": "https://localhost:8080/"
        },
        "id": "bf931ac3",
        "outputId": "f9bfbaea-00de-4d7b-91ed-e6ee8d2cc4ff"
      },
      "source": [
        "def create_sequences(data, time_window, target_column):\n",
        "    \"\"\"\n",
        "    Creates sequences of data for time series forecasting.\n",
        "\n",
        "    Args:\n",
        "        data (pd.DataFrame): The input DataFrame.\n",
        "        time_window (int): The number of previous days to use as input features.\n",
        "        target_column (str): The name of the column to predict.\n",
        "\n",
        "    Returns:\n",
        "        tuple: A tuple containing two NumPy arrays:\n",
        "            - X (np.ndarray): The input sequences.\n",
        "            - y (np.ndarray): The target values.\n",
        "    \"\"\"\n",
        "    X, y = [], []\n",
        "    target_data = data[target_column].values\n",
        "\n",
        "    for i in range(len(data) - time_window):\n",
        "        X.append(target_data[i:(i + time_window)])\n",
        "        y.append(target_data[i + time_window])\n",
        "\n",
        "    return np.array(X), np.array(y)\n",
        "\n",
        "time_windows = [30, 60, 90]\n",
        "test_size = 0.2\n",
        "random_state = 42\n",
        "\n",
        "data_splits = {}\n",
        "\n",
        "for window in time_windows:\n",
        "    X, y = create_sequences(df, window, 'High')\n",
        "\n",
        "    X_train, X_test, y_train, y_test = train_test_split(\n",
        "        X, y, test_size=test_size, random_state=random_state\n",
        "    )\n",
        "\n",
        "    # Reshape for deep learning models (samples, time steps, features)\n",
        "    X_train = np.reshape(X_train, (X_train.shape[0], X_train.shape[1], 1))\n",
        "    X_test = np.reshape(X_test, (X_test.shape[0], X_test.shape[1], 1))\n",
        "\n",
        "    data_splits[window] = {\n",
        "        'X_train': X_train,\n",
        "        'X_test': X_test,\n",
        "        'y_train': y_train,\n",
        "        'y_test': y_test\n",
        "    }\n",
        "\n",
        "    print(f\"Data splits for window {window}:\")\n",
        "    print(f\"  X_train shape: {X_train.shape}\")\n",
        "    print(f\"  X_test shape: {X_test.shape}\")\n",
        "    print(f\"  y_train shape: {y_train.shape}\")\n",
        "    print(f\"  y_test shape: {y_test.shape}\")\n"
      ],
      "execution_count": 34,
      "outputs": [
        {
          "output_type": "stream",
          "name": "stdout",
          "text": [
            "Data splits for window 30:\n",
            "  X_train shape: (5028, 30, 1)\n",
            "  X_test shape: (1257, 30, 1)\n",
            "  y_train shape: (5028,)\n",
            "  y_test shape: (1257,)\n",
            "Data splits for window 60:\n",
            "  X_train shape: (5004, 60, 1)\n",
            "  X_test shape: (1251, 60, 1)\n",
            "  y_train shape: (5004,)\n",
            "  y_test shape: (1251,)\n",
            "Data splits for window 90:\n",
            "  X_train shape: (4980, 90, 1)\n",
            "  X_test shape: (1245, 90, 1)\n",
            "  y_train shape: (4980,)\n",
            "  y_test shape: (1245,)\n"
          ]
        }
      ]
    },
    {
      "cell_type": "markdown",
      "metadata": {
        "id": "a97204b4"
      },
      "source": [
        "## Build and train knn model\n",
        "\n",
        "### Subtask:\n",
        "Build a KNN Regressor model, train it for each time window (30, 60, 90 days), and evaluate its performance using MAE and RMSE for each time window.\n"
      ]
    },
    {
      "cell_type": "markdown",
      "metadata": {
        "id": "4c2869b6"
      },
      "source": [
        "**Reasoning**:\n",
        "Initialize the dictionary to store KNN results and loop through the time windows to train and evaluate the KNN model for each, reshaping the data as needed.\n",
        "\n"
      ]
    },
    {
      "cell_type": "code",
      "metadata": {
        "colab": {
          "base_uri": "https://localhost:8080/"
        },
        "id": "1728c9b8",
        "outputId": "ce27de88-2722-400f-d6dd-92cb29512714"
      },
      "source": [
        "knn_results = {}\n",
        "\n",
        "for window in time_windows:\n",
        "    print(f\"\\nTraining and evaluating KNN for window: {window} days\")\n",
        "\n",
        "    X_train = data_splits[window]['X_train']\n",
        "    X_test = data_splits[window]['X_test']\n",
        "    y_train = data_splits[window]['y_train']\n",
        "    y_test = data_splits[window]['y_test']\n",
        "\n",
        "    # Reshape X_train and X_test for KNN\n",
        "    X_train_reshaped = X_train.reshape(X_train.shape[0], X_train.shape[1])\n",
        "    X_test_reshaped = X_test.reshape(X_test.shape[0], X_test.shape[1])\n",
        "\n",
        "    # Initialize and train the KNN model\n",
        "    knn_model = KNeighborsRegressor(n_neighbors=5) # Using default n_neighbors=5\n",
        "    knn_model.fit(X_train_reshaped, y_train)\n",
        "\n",
        "    # Make predictions\n",
        "    predictions = knn_model.predict(X_test_reshaped)\n",
        "\n",
        "    # Calculate evaluation metrics\n",
        "    mae = mean_absolute_error(y_test, predictions)\n",
        "    rmse = np.sqrt(mean_squared_error(y_test, predictions))\n",
        "\n",
        "    # Store results\n",
        "    knn_results[window] = {'MAE': mae, 'RMSE': rmse}\n",
        "\n",
        "    # Print results\n",
        "    print(f\"  MAE: {mae:.4f}\")\n",
        "    print(f\"  RMSE: {rmse:.4f}\")\n"
      ],
      "execution_count": 8,
      "outputs": [
        {
          "output_type": "stream",
          "name": "stdout",
          "text": [
            "\n",
            "Training and evaluating KNN for window: 30 days\n",
            "  MAE: 6346.1459\n",
            "  RMSE: 7393.5641\n",
            "\n",
            "Training and evaluating KNN for window: 60 days\n",
            "  MAE: 6456.6597\n",
            "  RMSE: 7467.3916\n",
            "\n",
            "Training and evaluating KNN for window: 90 days\n",
            "  MAE: 6883.1044\n",
            "  RMSE: 7879.4340\n"
          ]
        }
      ]
    },
    {
      "cell_type": "markdown",
      "metadata": {
        "id": "0801d9fc"
      },
      "source": [
        "## Build and train deep learning models (rnn, gru, lstm, bidirectional lstm)\n",
        "\n",
        "### Subtask:\n",
        "For each deep learning model (RNN, GRU, LSTM, Bidirectional LSTM), build the model architecture, compile the model with appropriate loss function and optimizer, train the model for 50 epochs for each time window (30, 60, 90 days), and evaluate the model's performance using MAE and RMSE for each time window.\n"
      ]
    },
    {
      "cell_type": "markdown",
      "metadata": {
        "id": "2057e40b"
      },
      "source": [
        "**Reasoning**:\n",
        "Import the necessary libraries from TensorFlow and Keras for building deep learning models.\n",
        "\n"
      ]
    },
    {
      "cell_type": "code",
      "metadata": {
        "id": "dcdeaf0d"
      },
      "source": [
        "from tensorflow.keras.models import Sequential\n",
        "from tensorflow.keras.layers import SimpleRNN, GRU, LSTM, Bidirectional, Dense"
      ],
      "execution_count": 9,
      "outputs": []
    },
    {
      "cell_type": "markdown",
      "metadata": {
        "id": "2456e56d"
      },
      "source": [
        "**Reasoning**:\n",
        "Define a function to build different deep learning models based on the specified type and input shape, and then initialize a dictionary to store the results.\n",
        "\n"
      ]
    },
    {
      "cell_type": "code",
      "metadata": {
        "id": "a008b92f"
      },
      "source": [
        "def build_dl_model(model_type, input_shape):\n",
        "    \"\"\"\n",
        "    Builds a sequential deep learning model based on the specified type.\n",
        "\n",
        "    Args:\n",
        "        model_type (str): Type of the model ('RNN', 'GRU', 'LSTM', 'Bidirectional LSTM').\n",
        "        input_shape (tuple): The shape of the input data (time_steps, features).\n",
        "\n",
        "    Returns:\n",
        "        tf.keras.Model: The compiled Keras model.\n",
        "    \"\"\"\n",
        "    model = Sequential()\n",
        "\n",
        "    if model_type == 'SimpleRNN':\n",
        "        model.add(SimpleRNN(50, activation='relu', input_shape=input_shape))\n",
        "    elif model_type == 'GRU':\n",
        "        model.add(GRU(50, activation='relu', input_shape=input_shape))\n",
        "    elif model_type == 'LSTM':\n",
        "        model.add(LSTM(50, activation='relu', input_shape=input_shape))\n",
        "    elif model_type == 'Bidirectional LSTM':\n",
        "        model.add(Bidirectional(LSTM(50, activation='relu'), input_shape=input_shape))\n",
        "    else:\n",
        "        raise ValueError(\"Invalid model_type specified.\")\n",
        "\n",
        "    model.add(Dense(1))\n",
        "    model.compile(optimizer='adam', loss='mean_squared_error')\n",
        "    return model\n",
        "\n",
        "deep_learning_results = {}"
      ],
      "execution_count": 10,
      "outputs": []
    },
    {
      "cell_type": "markdown",
      "metadata": {
        "id": "3dfbcc72"
      },
      "source": [
        "**Reasoning**:\n",
        "Iterate through each time window and deep learning model type, build, train, and evaluate the model, and store the results.\n",
        "\n"
      ]
    },
    {
      "cell_type": "code",
      "metadata": {
        "colab": {
          "base_uri": "https://localhost:8080/"
        },
        "id": "a346ffa3",
        "outputId": "4e3f6c70-0a9a-45d8-ee29-155ae6419976"
      },
      "source": [
        "time_windows = [30, 60, 90]\n",
        "deep_learning_models = ['SimpleRNN', 'GRU', 'LSTM', 'Bidirectional LSTM']\n",
        "epochs = 50\n",
        "batch_size = 100\n",
        "\n",
        "for window in time_windows:\n",
        "    print(f\"\\n--- Processing window: {window} days ---\")\n",
        "    X_train = data_splits[window]['X_train']\n",
        "    X_test = data_splits[window]['X_test']\n",
        "    y_train = data_splits[window]['y_train']\n",
        "    y_test = data_splits[window]['y_test']\n",
        "\n",
        "    input_shape = (X_train.shape[1], X_train.shape[2])\n",
        "\n",
        "    if window not in deep_learning_results:\n",
        "        deep_learning_results[window] = {}\n",
        "\n",
        "    for model_type in deep_learning_models:\n",
        "        print(f\"Building and training {model_type} model...\")\n",
        "        model = build_dl_model(model_type, input_shape)\n",
        "\n",
        "        # Train the model\n",
        "        model.fit(X_train, y_train, epochs=epochs, batch_size=batch_size, verbose=0)\n",
        "\n",
        "        # Make predictions\n",
        "        predictions = model.predict(X_test).flatten()\n",
        "\n",
        "        # Filter out NaN values from predictions and corresponding y_test values\n",
        "        nan_mask = ~np.isnan(predictions)\n",
        "        predictions_filtered = predictions[nan_mask]\n",
        "        y_test_filtered = y_test[nan_mask]\n",
        "\n",
        "        # Check if filtered arrays are empty before calculating metrics\n",
        "        if len(predictions_filtered) > 0 and len(y_test_filtered) > 0:\n",
        "            # Calculate evaluation metrics\n",
        "            mae = mean_absolute_error(y_test_filtered, predictions_filtered)\n",
        "            rmse = np.sqrt(mean_squared_error(y_test_filtered, predictions_filtered))\n",
        "\n",
        "            # Store results\n",
        "            deep_learning_results[window][model_type] = {'MAE': mae, 'RMSE': rmse}\n",
        "\n",
        "            # Print results\n",
        "            print(f\"  {model_type} - MAE: {mae:.4f}, RMSE: {rmse:.4f}\")\n",
        "        else:\n",
        "            print(f\"  {model_type} - Skipping evaluation due to empty filtered data.\")\n",
        "            deep_learning_results[window][model_type] = {'MAE': 0, 'RMSE': 0} # Store NaN for skipped evaluations"
      ],
      "execution_count": 29,
      "outputs": [
        {
          "output_type": "stream",
          "name": "stdout",
          "text": [
            "\n",
            "--- Processing window: 30 days ---\n",
            "Building and training SimpleRNN model...\n",
            "\u001b[1m40/40\u001b[0m \u001b[32m━━━━━━━━━━━━━━━━━━━━\u001b[0m\u001b[37m\u001b[0m \u001b[1m1s\u001b[0m 10ms/step\n",
            "  SimpleRNN - MAE: 127.4871, RMSE: 167.2766\n",
            "Building and training GRU model...\n",
            "\u001b[1m40/40\u001b[0m \u001b[32m━━━━━━━━━━━━━━━━━━━━\u001b[0m\u001b[37m\u001b[0m \u001b[1m1s\u001b[0m 13ms/step\n",
            "  GRU - MAE: 136.4992, RMSE: 177.2127\n",
            "Building and training LSTM model...\n",
            "\u001b[1m40/40\u001b[0m \u001b[32m━━━━━━━━━━━━━━━━━━━━\u001b[0m\u001b[37m\u001b[0m \u001b[1m1s\u001b[0m 17ms/step\n",
            "  LSTM - MAE: 474.8922, RMSE: 585.0502\n",
            "Building and training Bidirectional LSTM model...\n",
            "\u001b[1m40/40\u001b[0m \u001b[32m━━━━━━━━━━━━━━━━━━━━\u001b[0m\u001b[37m\u001b[0m \u001b[1m2s\u001b[0m 18ms/step\n",
            "  Bidirectional LSTM - MAE: 334.3998, RMSE: 421.5155\n",
            "\n",
            "--- Processing window: 60 days ---\n",
            "Building and training SimpleRNN model...\n",
            "\u001b[1m40/40\u001b[0m \u001b[32m━━━━━━━━━━━━━━━━━━━━\u001b[0m\u001b[37m\u001b[0m \u001b[1m1s\u001b[0m 9ms/step\n",
            "  SimpleRNN - MAE: 154.6440, RMSE: 204.5064\n",
            "Building and training GRU model...\n",
            "\u001b[1m40/40\u001b[0m \u001b[32m━━━━━━━━━━━━━━━━━━━━\u001b[0m\u001b[37m\u001b[0m \u001b[1m1s\u001b[0m 12ms/step\n",
            "  GRU - MAE: 128.1015, RMSE: 169.7182\n",
            "Building and training LSTM model...\n",
            "\u001b[1m40/40\u001b[0m \u001b[32m━━━━━━━━━━━━━━━━━━━━\u001b[0m\u001b[37m\u001b[0m \u001b[1m1s\u001b[0m 12ms/step\n",
            "  LSTM - MAE: 3122.9056, RMSE: 3198.1356\n",
            "Building and training Bidirectional LSTM model...\n",
            "\u001b[1m40/40\u001b[0m \u001b[32m━━━━━━━━━━━━━━━━━━━━\u001b[0m\u001b[37m\u001b[0m \u001b[1m1s\u001b[0m 19ms/step\n",
            "  Bidirectional LSTM - MAE: 1914.0571, RMSE: 2325.2586\n",
            "\n",
            "--- Processing window: 90 days ---\n",
            "Building and training SimpleRNN model...\n",
            "\u001b[1m39/39\u001b[0m \u001b[32m━━━━━━━━━━━━━━━━━━━━\u001b[0m\u001b[37m\u001b[0m \u001b[1m1s\u001b[0m 11ms/step\n",
            "  SimpleRNN - MAE: 157.0973, RMSE: 208.3658\n",
            "Building and training GRU model...\n",
            "\u001b[1m39/39\u001b[0m \u001b[32m━━━━━━━━━━━━━━━━━━━━\u001b[0m\u001b[37m\u001b[0m \u001b[1m1s\u001b[0m 13ms/step\n",
            "  GRU - MAE: 173.7155, RMSE: 213.7405\n",
            "Building and training LSTM model...\n",
            "\u001b[1m39/39\u001b[0m \u001b[32m━━━━━━━━━━━━━━━━━━━━\u001b[0m\u001b[37m\u001b[0m \u001b[1m1s\u001b[0m 13ms/step\n",
            "  LSTM - MAE: 305.6755, RMSE: 361.4647\n",
            "Building and training Bidirectional LSTM model...\n",
            "\u001b[1m39/39\u001b[0m \u001b[32m━━━━━━━━━━━━━━━━━━━━\u001b[0m\u001b[37m\u001b[0m \u001b[1m1s\u001b[0m 21ms/step\n",
            "  Bidirectional LSTM - Skipping evaluation due to empty filtered data.\n"
          ]
        }
      ]
    },
    {
      "cell_type": "markdown",
      "metadata": {
        "id": "dc39758d"
      },
      "source": [
        "## Compare model performance\n",
        "\n",
        "### Subtask:\n",
        "Compare the performance of all trained models (KNN, SimpleRNN, GRU, LSTM, Bidirectional LSTM) for each time window (30, 60, 90 days) using the collected MAE and RMSE metrics."
      ]
    },
    {
      "cell_type": "markdown",
      "metadata": {
        "id": "bc8d6b6e"
      },
      "source": [
        "**Reasoning**:\n",
        "Consolidate the evaluation results from the KNN and deep learning models for all time windows into a single structure for easy comparison and display the results."
      ]
    },
    {
      "cell_type": "code",
      "metadata": {
        "colab": {
          "base_uri": "https://localhost:8080/"
        },
        "id": "a5604688",
        "outputId": "5e06e1b5-cbfd-4811-bede-bb11ae1b3136"
      },
      "source": [
        "# Consolidate all results\n",
        "all_results = {}\n",
        "time_windows = [30, 60, 90]\n",
        "\n",
        "# Add KNN results\n",
        "for window, metrics in knn_results.items():\n",
        "    if window not in all_results:\n",
        "        all_results[window] = {}\n",
        "    all_results[window]['KNN'] = metrics\n",
        "\n",
        "# Add deep learning results\n",
        "for window, models_results in deep_learning_results.items():\n",
        "    if window not in all_results:\n",
        "        all_results[window] = {}\n",
        "    for model_type, metrics in models_results.items():\n",
        "         all_results[window][model_type] = metrics\n",
        "\n",
        "\n",
        "# Display results in a structured format\n",
        "print(\"Model Performance Comparison (MAE and RMSE):\")\n",
        "print(\"-\" * 60)\n",
        "\n",
        "for window in time_windows:\n",
        "    print(f\"\\nTime Window: {window} days\")\n",
        "    print(\"-\" * 30)\n",
        "    if window in all_results:\n",
        "        for model_type, metrics in all_results[window].items():\n",
        "            # Check if metrics are not NaN before printing\n",
        "            if not np.isnan(metrics['MAE']) and not np.isnan(metrics['RMSE']):\n",
        "                print(f\"  {model_type:<20} - MAE: {metrics['MAE']:.4f}, RMSE: {metrics['RMSE']:.4f}\")\n",
        "            else:\n",
        "                 print(f\"  {model_type:<20} - MAE: N/A, RMSE: N/A (Evaluation skipped)\")\n",
        "\n",
        "    else:\n",
        "        print(\"  No results available for this window.\")\n",
        "\n",
        "print(\"-\" * 60)"
      ],
      "execution_count": 51,
      "outputs": [
        {
          "output_type": "stream",
          "name": "stdout",
          "text": [
            "Model Performance Comparison (MAE and RMSE):\n",
            "------------------------------------------------------------\n",
            "\n",
            "Time Window: 30 days\n",
            "------------------------------\n",
            "  KNN                  - MAE: 6346.1459, RMSE: 7393.5641\n",
            "  SimpleRNN            - MAE: 127.4871, RMSE: 167.2766\n",
            "  GRU                  - MAE: 136.4992, RMSE: 177.2127\n",
            "  LSTM                 - MAE: 474.8922, RMSE: 585.0502\n",
            "  Bidirectional LSTM   - MAE: 334.3998, RMSE: 421.5155\n",
            "\n",
            "Time Window: 60 days\n",
            "------------------------------\n",
            "  KNN                  - MAE: 6456.6597, RMSE: 7467.3916\n",
            "  SimpleRNN            - MAE: 154.6440, RMSE: 204.5064\n",
            "  GRU                  - MAE: 128.1015, RMSE: 169.7182\n",
            "  LSTM                 - MAE: 3122.9056, RMSE: 3198.1356\n",
            "  Bidirectional LSTM   - MAE: 1914.0571, RMSE: 2325.2586\n",
            "\n",
            "Time Window: 90 days\n",
            "------------------------------\n",
            "  KNN                  - MAE: 6883.1044, RMSE: 7879.4340\n",
            "  SimpleRNN            - MAE: 157.0973, RMSE: 208.3658\n",
            "  GRU                  - MAE: 173.7155, RMSE: 213.7405\n",
            "  LSTM                 - MAE: 305.6755, RMSE: 361.4647\n",
            "  Bidirectional LSTM   - MAE: 0.0000, RMSE: 0.0000\n",
            "------------------------------------------------------------\n"
          ]
        }
      ]
    },
    {
      "cell_type": "markdown",
      "source": [
        "\n",
        "\n",
        "## Overall Performance:\n",
        "- The deep learning models (SimpleRNN, GRU, LSTM, Bidirectional LSTM) generally outperformed the KNN model by a significant margin across all time windows, as indicated by their much lower MAE and RMSE values. KNN's performance was considerably worse, likely due to its inability to capture the complex temporal dependencies in the time series data.\n",
        "- Deep Learning Model Comparison: Among the deep learning models, SimpleRNN and GRU models showed competitive performance, often having the lowest MAE and RMSE values for the 30 and 60-day time windows. LSTM also performed reasonably well, particularly for the 90-day window where SimpleRNN and GRU's performance slightly degraded.\n",
        "- Time Window Impact: For the deep learning models, the performance varied with the time window.\n",
        "- For SimpleRNN and GRU, the 30 and 60-day windows generally yielded better results compared to the 90-day window.\n",
        "LSTM showed improved performance with the 90-day window compared to the 30 and 60-day windows.\n",
        "- The Bidirectional LSTM model encountered issues with the 90-day time window, resulting in NaN predictions and making its evaluation difficult for that specific case. For the 30 and 60-day windows, its performance was better than KNN but generally worse than SimpleRNN and GRU.\n",
        "- Best Performing Models/Windows: Considering the MAE and RMSE metrics, the SimpleRNN and GRU models with a 30 or 60-day time window appear to be the most promising for this prediction task among the evaluated options.\n",
        "- Bidirectional LSTM with 90-day Window: The failure of the Bidirectional LSTM with the 90-day window to produce valid predictions is a notable observation that would require further investigation to understand the cause (e.g., model stability, data scaling, hyperparameters).\n",
        "- In summary, for predicting the 'High' price of the NIFTY 50 index using the evaluated models and time windows, SimpleRNN and GRU models with shorter time windows (30 or 60 days) demonstrated the best performance."
      ],
      "metadata": {
        "id": "BbcqVzQcGzIH"
      }
    },
    {
      "cell_type": "code",
      "source": [],
      "metadata": {
        "id": "ejSyTHp5ESlP"
      },
      "execution_count": null,
      "outputs": []
    }
  ]
}